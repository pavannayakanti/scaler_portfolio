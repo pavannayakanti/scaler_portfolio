{
 "cells": [
  {
   "cell_type": "code",
   "execution_count": null,
   "metadata": {},
   "outputs": [],
   "source": [
    "# EDA.ipynb\n",
    "import pandas as pd\n",
    "import matplotlib.pyplot as plt\n",
    "import seaborn as sns\n",
    "\n",
    "# Load the dataset\n",
    "file_path = '../data/TRAIN.csv'\n",
    "data = pd.read_csv(file_path)\n",
    "\n",
    "# Convert Date to datetime format\n",
    "data['Date'] = pd.to_datetime(data['Date'])\n",
    "\n",
    "# Basic statistics\n",
    "data.describe()\n",
    "\n",
    "# Plotting\n",
    "plt.figure(figsize=(14, 7))\n",
    "sns.lineplot(data=data, x='Date', y='Sales')\n",
    "plt.title('Sales Over Time')\n",
    "plt.show()\n",
    "\n",
    "# Box plot for Sales\n",
    "plt.figure(figsize=(10, 6))\n",
    "sns.boxplot(x=data['Sales'])\n",
    "plt.title('Box Plot of Sales')\n",
    "plt.show()\n",
    "\n",
    "# Box plot for Number of Orders\n",
    "plt.figure(figsize=(10, 6))\n",
    "sns.boxplot(x=data['#Order'])\n",
    "plt.title('Box Plot of Number of Orders')\n",
    "plt.show()\n"
   ]
  }
 ],
 "metadata": {
  "language_info": {
   "name": "python"
  }
 },
 "nbformat": 4,
 "nbformat_minor": 2
}
